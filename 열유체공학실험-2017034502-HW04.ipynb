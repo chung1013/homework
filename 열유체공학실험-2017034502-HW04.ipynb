{
  "nbformat": 4,
  "nbformat_minor": 0,
  "metadata": {
    "colab": {
      "name": "Untitled3.ipynb",
      "provenance": [],
      "include_colab_link": true
    },
    "kernelspec": {
      "name": "python3",
      "display_name": "Python 3"
    }
  },
  "cells": [
    {
      "cell_type": "markdown",
      "metadata": {
        "id": "view-in-github",
        "colab_type": "text"
      },
      "source": [
        "<a href=\"https://colab.research.google.com/github/chung1013/homework/blob/master/%EC%97%B4%EC%9C%A0%EC%B2%B4%EA%B3%B5%ED%95%99%EC%8B%A4%ED%97%98-2017034502-HW04.ipynb\" target=\"_parent\"><img src=\"https://colab.research.google.com/assets/colab-badge.svg\" alt=\"Open In Colab\"/></a>"
      ]
    },
    {
      "cell_type": "code",
      "metadata": {
        "id": "ftAMdI7wdOsn",
        "colab_type": "code",
        "colab": {
          "base_uri": "https://localhost:8080/",
          "height": 136
        },
        "outputId": "6c5f5569-0fb9-47e8-c4a6-e736a5123b36"
      },
      "source": [
        "a = int(input() # 기본 문법\n",
        "\n",
        "def function(a):\n",
        "\n",
        "  for i in range(9):\n",
        "    print(a,\"*\",i+1,\"=\",a*(i+1))\n",
        "\n",
        "b=int(input()) # numpy 사용\n",
        "\n",
        "def function(b):\n",
        "  import numpy as np\n",
        "  x = np.arange(9)\n",
        "  x=x+1\n",
        "\n",
        "  print(x,\"*\",b,\"=\",x*b)\n",
        "\n",
        "import numba # numba 사용\n",
        "\n",
        "c = int(input())\n",
        "\n",
        "@numba.jit\n",
        "def function(c):\n",
        " for i in range(1,9):\n",
        "   print(c,\"*\",i+1,\"=\",c*(i+1))\n",
        "\n",
        "d = int(input())\n",
        "\n",
        "from numba import vectorize\n",
        "@vectorize\n",
        "def function(d):\n",
        " for i in range(1,9):\n",
        "   print(d,\"*\",i+1,\"=\",d*(i+1))\n",
        "\n",
        "%timeit function(a)\n",
        "%timeit function(b)\n",
        "%timeit function(c)\n",
        "%timeit function(d)"
      ],
      "execution_count": 41,
      "outputs": [
        {
          "output_type": "error",
          "ename": "SyntaxError",
          "evalue": "ignored",
          "traceback": [
            "\u001b[0;36m  File \u001b[0;32m\"<ipython-input-41-385a90fdb2d8>\"\u001b[0;36m, line \u001b[0;32m3\u001b[0m\n\u001b[0;31m    def function(a):\u001b[0m\n\u001b[0m      ^\u001b[0m\n\u001b[0;31mSyntaxError\u001b[0m\u001b[0;31m:\u001b[0m invalid syntax\n"
          ]
        }
      ]
    }
  ]
}